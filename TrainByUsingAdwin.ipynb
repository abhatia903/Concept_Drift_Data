{
  "cells": [
    {
      "cell_type": "markdown",
      "metadata": {
        "id": "view-in-github",
        "colab_type": "text"
      },
      "source": [
        "<a href=\"https://colab.research.google.com/github/abhatia903/Concept_Drift_Data/blob/main/TrainByUsingAdwin.ipynb\" target=\"_parent\"><img src=\"https://colab.research.google.com/assets/colab-badge.svg\" alt=\"Open In Colab\"/></a>"
      ]
    },
    {
      "cell_type": "code",
      "execution_count": 3,
      "metadata": {
        "colab": {
          "base_uri": "https://localhost:8080/",
          "height": 224
        },
        "id": "JCCct3tRITfv",
        "outputId": "6a8c5119-d534-4870-b798-0f169a1dc63d"
      },
      "outputs": [
        {
          "output_type": "stream",
          "name": "stdout",
          "text": [
            "Number of rows and columns: (46983, 10)\n"
          ]
        },
        {
          "output_type": "execute_result",
          "data": {
            "text/plain": [
              "   Unnamed: 0            Date  Frame No     BAT    COND      DO    ORP  \\\n",
              "0           0  12-01-19 12:57         0 91.0000  0.0447 14.8328 0.0848   \n",
              "1           1  12-01-19 12:58         1 92.0000  0.0447 14.1703 0.0863   \n",
              "2           2  12-01-19 14:54         0 90.0000 46.1952 13.5012 0.1429   \n",
              "3           3  12-01-19 14:55         1 91.0000 52.6097 20.7529 0.1462   \n",
              "4           4  12-01-19 14:56         2 91.0000 52.3998 12.4094 0.1467   \n",
              "\n",
              "       PH      WT   Target  \n",
              "0  8.8797 22.6502  NODRIFT  \n",
              "1  8.8668 22.5670  NODRIFT  \n",
              "2 12.3599 18.4008  NODRIFT  \n",
              "3 12.8257 18.0136  NODRIFT  \n",
              "4 12.9990 18.1846  NODRIFT  "
            ],
            "text/html": [
              "\n",
              "  <div id=\"df-4735ffb2-39bd-4e10-8d04-8b9c270ad6d2\">\n",
              "    <div class=\"colab-df-container\">\n",
              "      <div>\n",
              "<style scoped>\n",
              "    .dataframe tbody tr th:only-of-type {\n",
              "        vertical-align: middle;\n",
              "    }\n",
              "\n",
              "    .dataframe tbody tr th {\n",
              "        vertical-align: top;\n",
              "    }\n",
              "\n",
              "    .dataframe thead th {\n",
              "        text-align: right;\n",
              "    }\n",
              "</style>\n",
              "<table border=\"1\" class=\"dataframe\">\n",
              "  <thead>\n",
              "    <tr style=\"text-align: right;\">\n",
              "      <th></th>\n",
              "      <th>Unnamed: 0</th>\n",
              "      <th>Date</th>\n",
              "      <th>Frame No</th>\n",
              "      <th>BAT</th>\n",
              "      <th>COND</th>\n",
              "      <th>DO</th>\n",
              "      <th>ORP</th>\n",
              "      <th>PH</th>\n",
              "      <th>WT</th>\n",
              "      <th>Target</th>\n",
              "    </tr>\n",
              "  </thead>\n",
              "  <tbody>\n",
              "    <tr>\n",
              "      <th>0</th>\n",
              "      <td>0</td>\n",
              "      <td>12-01-19 12:57</td>\n",
              "      <td>0</td>\n",
              "      <td>91.0000</td>\n",
              "      <td>0.0447</td>\n",
              "      <td>14.8328</td>\n",
              "      <td>0.0848</td>\n",
              "      <td>8.8797</td>\n",
              "      <td>22.6502</td>\n",
              "      <td>NODRIFT</td>\n",
              "    </tr>\n",
              "    <tr>\n",
              "      <th>1</th>\n",
              "      <td>1</td>\n",
              "      <td>12-01-19 12:58</td>\n",
              "      <td>1</td>\n",
              "      <td>92.0000</td>\n",
              "      <td>0.0447</td>\n",
              "      <td>14.1703</td>\n",
              "      <td>0.0863</td>\n",
              "      <td>8.8668</td>\n",
              "      <td>22.5670</td>\n",
              "      <td>NODRIFT</td>\n",
              "    </tr>\n",
              "    <tr>\n",
              "      <th>2</th>\n",
              "      <td>2</td>\n",
              "      <td>12-01-19 14:54</td>\n",
              "      <td>0</td>\n",
              "      <td>90.0000</td>\n",
              "      <td>46.1952</td>\n",
              "      <td>13.5012</td>\n",
              "      <td>0.1429</td>\n",
              "      <td>12.3599</td>\n",
              "      <td>18.4008</td>\n",
              "      <td>NODRIFT</td>\n",
              "    </tr>\n",
              "    <tr>\n",
              "      <th>3</th>\n",
              "      <td>3</td>\n",
              "      <td>12-01-19 14:55</td>\n",
              "      <td>1</td>\n",
              "      <td>91.0000</td>\n",
              "      <td>52.6097</td>\n",
              "      <td>20.7529</td>\n",
              "      <td>0.1462</td>\n",
              "      <td>12.8257</td>\n",
              "      <td>18.0136</td>\n",
              "      <td>NODRIFT</td>\n",
              "    </tr>\n",
              "    <tr>\n",
              "      <th>4</th>\n",
              "      <td>4</td>\n",
              "      <td>12-01-19 14:56</td>\n",
              "      <td>2</td>\n",
              "      <td>91.0000</td>\n",
              "      <td>52.3998</td>\n",
              "      <td>12.4094</td>\n",
              "      <td>0.1467</td>\n",
              "      <td>12.9990</td>\n",
              "      <td>18.1846</td>\n",
              "      <td>NODRIFT</td>\n",
              "    </tr>\n",
              "  </tbody>\n",
              "</table>\n",
              "</div>\n",
              "      <button class=\"colab-df-convert\" onclick=\"convertToInteractive('df-4735ffb2-39bd-4e10-8d04-8b9c270ad6d2')\"\n",
              "              title=\"Convert this dataframe to an interactive table.\"\n",
              "              style=\"display:none;\">\n",
              "        \n",
              "  <svg xmlns=\"http://www.w3.org/2000/svg\" height=\"24px\"viewBox=\"0 0 24 24\"\n",
              "       width=\"24px\">\n",
              "    <path d=\"M0 0h24v24H0V0z\" fill=\"none\"/>\n",
              "    <path d=\"M18.56 5.44l.94 2.06.94-2.06 2.06-.94-2.06-.94-.94-2.06-.94 2.06-2.06.94zm-11 1L8.5 8.5l.94-2.06 2.06-.94-2.06-.94L8.5 2.5l-.94 2.06-2.06.94zm10 10l.94 2.06.94-2.06 2.06-.94-2.06-.94-.94-2.06-.94 2.06-2.06.94z\"/><path d=\"M17.41 7.96l-1.37-1.37c-.4-.4-.92-.59-1.43-.59-.52 0-1.04.2-1.43.59L10.3 9.45l-7.72 7.72c-.78.78-.78 2.05 0 2.83L4 21.41c.39.39.9.59 1.41.59.51 0 1.02-.2 1.41-.59l7.78-7.78 2.81-2.81c.8-.78.8-2.07 0-2.86zM5.41 20L4 18.59l7.72-7.72 1.47 1.35L5.41 20z\"/>\n",
              "  </svg>\n",
              "      </button>\n",
              "      \n",
              "  <style>\n",
              "    .colab-df-container {\n",
              "      display:flex;\n",
              "      flex-wrap:wrap;\n",
              "      gap: 12px;\n",
              "    }\n",
              "\n",
              "    .colab-df-convert {\n",
              "      background-color: #E8F0FE;\n",
              "      border: none;\n",
              "      border-radius: 50%;\n",
              "      cursor: pointer;\n",
              "      display: none;\n",
              "      fill: #1967D2;\n",
              "      height: 32px;\n",
              "      padding: 0 0 0 0;\n",
              "      width: 32px;\n",
              "    }\n",
              "\n",
              "    .colab-df-convert:hover {\n",
              "      background-color: #E2EBFA;\n",
              "      box-shadow: 0px 1px 2px rgba(60, 64, 67, 0.3), 0px 1px 3px 1px rgba(60, 64, 67, 0.15);\n",
              "      fill: #174EA6;\n",
              "    }\n",
              "\n",
              "    [theme=dark] .colab-df-convert {\n",
              "      background-color: #3B4455;\n",
              "      fill: #D2E3FC;\n",
              "    }\n",
              "\n",
              "    [theme=dark] .colab-df-convert:hover {\n",
              "      background-color: #434B5C;\n",
              "      box-shadow: 0px 1px 3px 1px rgba(0, 0, 0, 0.15);\n",
              "      filter: drop-shadow(0px 1px 2px rgba(0, 0, 0, 0.3));\n",
              "      fill: #FFFFFF;\n",
              "    }\n",
              "  </style>\n",
              "\n",
              "      <script>\n",
              "        const buttonEl =\n",
              "          document.querySelector('#df-4735ffb2-39bd-4e10-8d04-8b9c270ad6d2 button.colab-df-convert');\n",
              "        buttonEl.style.display =\n",
              "          google.colab.kernel.accessAllowed ? 'block' : 'none';\n",
              "\n",
              "        async function convertToInteractive(key) {\n",
              "          const element = document.querySelector('#df-4735ffb2-39bd-4e10-8d04-8b9c270ad6d2');\n",
              "          const dataTable =\n",
              "            await google.colab.kernel.invokeFunction('convertToInteractive',\n",
              "                                                     [key], {});\n",
              "          if (!dataTable) return;\n",
              "\n",
              "          const docLinkHtml = 'Like what you see? Visit the ' +\n",
              "            '<a target=\"_blank\" href=https://colab.research.google.com/notebooks/data_table.ipynb>data table notebook</a>'\n",
              "            + ' to learn more about interactive tables.';\n",
              "          element.innerHTML = '';\n",
              "          dataTable['output_type'] = 'display_data';\n",
              "          await google.colab.output.renderOutput(dataTable, element);\n",
              "          const docLink = document.createElement('div');\n",
              "          docLink.innerHTML = docLinkHtml;\n",
              "          element.appendChild(docLink);\n",
              "        }\n",
              "      </script>\n",
              "    </div>\n",
              "  </div>\n",
              "  "
            ]
          },
          "metadata": {},
          "execution_count": 3
        }
      ],
      "source": [
        "import numpy as np\n",
        "import matplotlib.pyplot as plt\n",
        "import pandas as pd\n",
        "pd.set_option('display.float_format', lambda x: '%.4f' % x)\n",
        "import seaborn as sns\n",
        "sns.set_context(\"paper\", font_scale=1.3)\n",
        "sns.set_style('white')\n",
        "import warnings\n",
        "warnings.filterwarnings('ignore')\n",
        "from time import time\n",
        "import matplotlib.ticker as tkr\n",
        "from scipy import stats\n",
        "from statsmodels.tsa.stattools import adfuller\n",
        "from sklearn import preprocessing\n",
        "from statsmodels.tsa.stattools import pacf\n",
        "%matplotlib inline\n",
        "import math\n",
        "import keras\n",
        "import tensorflow as tf\n",
        "from keras.models import Sequential\n",
        "from keras.layers import Dense\n",
        "from keras.layers import LSTM\n",
        "from keras.layers import Dropout\n",
        "from keras.layers import *\n",
        "from sklearn.preprocessing import MinMaxScaler\n",
        "from sklearn.metrics import mean_squared_error\n",
        "from sklearn.metrics import mean_absolute_error\n",
        "from keras.callbacks import EarlyStopping\n",
        "df=pd.read_csv('/content/drive/MyDrive/Colab Notebooks/updateganga_data.csv')\n",
        "print('Number of rows and columns:', df.shape)\n",
        "df.head(5)"
      ]
    },
    {
      "cell_type": "code",
      "execution_count": 4,
      "metadata": {
        "colab": {
          "base_uri": "https://localhost:8080/"
        },
        "id": "vSfclCXTLAim",
        "outputId": "eb6cbfd9-8d08-4236-951b-8f86223aa894"
      },
      "outputs": [
        {
          "output_type": "stream",
          "name": "stdout",
          "text": [
            "Drive already mounted at /content/drive; to attempt to forcibly remount, call drive.mount(\"/content/drive\", force_remount=True).\n"
          ]
        }
      ],
      "source": [
        "from google.colab import drive\n",
        "drive.mount('/content/drive')"
      ]
    },
    {
      "cell_type": "code",
      "execution_count": 5,
      "metadata": {
        "colab": {
          "base_uri": "https://localhost:8080/",
          "height": 423
        },
        "id": "h4tb0wcHL1tW",
        "outputId": "2063655d-f9be-410d-bce3-2b4cd6cf7bcf"
      },
      "outputs": [
        {
          "output_type": "execute_result",
          "data": {
            "text/plain": [
              "       Unnamed: 0            Date  Frame No     BAT     COND       DO    ORP  \\\n",
              "25             25  12-01-19 15:17        23 90.0000  53.2876   8.3976 0.1441   \n",
              "57             57  12-01-19 15:50        55 90.0000  55.4216  17.5996 0.1555   \n",
              "83             83  30-03-19 10:36        11 97.0000   1.0197 108.8841 0.0878   \n",
              "89             89  30-03-19 10:42        17 95.0000   1.0200 108.9132 0.0873   \n",
              "95             95  30-03-19 12:28         5 85.0000 392.6326 108.9229 0.0292   \n",
              "...           ...             ...       ...     ...      ...      ...    ...   \n",
              "38239       38239   31-12-19 5:26       180 83.0000 396.6415  19.2422 0.1113   \n",
              "38303       38303   31-12-19 6:31       244 84.0000 396.6355  19.2422 0.1106   \n",
              "38431       38431   31-12-19 8:43       117 84.0000 396.8191  19.2422 0.1102   \n",
              "38471       38471   31-12-19 9:23       157 83.0000 396.8784  19.2422 0.1100   \n",
              "38591       38591  31-12-19 11:27        22 80.0000 397.9538  19.2422 0.1108   \n",
              "\n",
              "           PH      WT  Target  \n",
              "25    13.1781 17.9444       0  \n",
              "57    13.2321 17.7470       0  \n",
              "83     9.9153 29.0336       0  \n",
              "89     9.8432 28.6580       0  \n",
              "95    14.2488 29.2475       0  \n",
              "...       ...     ...     ...  \n",
              "38239  8.0206 16.0129       0  \n",
              "38303  8.0024 15.9840       0  \n",
              "38431  8.0964 15.9387       0  \n",
              "38471  8.1219 15.9211       0  \n",
              "38591  8.0789 15.9400       0  \n",
              "\n",
              "[620 rows x 10 columns]"
            ],
            "text/html": [
              "\n",
              "  <div id=\"df-984f212a-cf24-4fc9-b0fc-2e4e2f39d85c\">\n",
              "    <div class=\"colab-df-container\">\n",
              "      <div>\n",
              "<style scoped>\n",
              "    .dataframe tbody tr th:only-of-type {\n",
              "        vertical-align: middle;\n",
              "    }\n",
              "\n",
              "    .dataframe tbody tr th {\n",
              "        vertical-align: top;\n",
              "    }\n",
              "\n",
              "    .dataframe thead th {\n",
              "        text-align: right;\n",
              "    }\n",
              "</style>\n",
              "<table border=\"1\" class=\"dataframe\">\n",
              "  <thead>\n",
              "    <tr style=\"text-align: right;\">\n",
              "      <th></th>\n",
              "      <th>Unnamed: 0</th>\n",
              "      <th>Date</th>\n",
              "      <th>Frame No</th>\n",
              "      <th>BAT</th>\n",
              "      <th>COND</th>\n",
              "      <th>DO</th>\n",
              "      <th>ORP</th>\n",
              "      <th>PH</th>\n",
              "      <th>WT</th>\n",
              "      <th>Target</th>\n",
              "    </tr>\n",
              "  </thead>\n",
              "  <tbody>\n",
              "    <tr>\n",
              "      <th>25</th>\n",
              "      <td>25</td>\n",
              "      <td>12-01-19 15:17</td>\n",
              "      <td>23</td>\n",
              "      <td>90.0000</td>\n",
              "      <td>53.2876</td>\n",
              "      <td>8.3976</td>\n",
              "      <td>0.1441</td>\n",
              "      <td>13.1781</td>\n",
              "      <td>17.9444</td>\n",
              "      <td>0</td>\n",
              "    </tr>\n",
              "    <tr>\n",
              "      <th>57</th>\n",
              "      <td>57</td>\n",
              "      <td>12-01-19 15:50</td>\n",
              "      <td>55</td>\n",
              "      <td>90.0000</td>\n",
              "      <td>55.4216</td>\n",
              "      <td>17.5996</td>\n",
              "      <td>0.1555</td>\n",
              "      <td>13.2321</td>\n",
              "      <td>17.7470</td>\n",
              "      <td>0</td>\n",
              "    </tr>\n",
              "    <tr>\n",
              "      <th>83</th>\n",
              "      <td>83</td>\n",
              "      <td>30-03-19 10:36</td>\n",
              "      <td>11</td>\n",
              "      <td>97.0000</td>\n",
              "      <td>1.0197</td>\n",
              "      <td>108.8841</td>\n",
              "      <td>0.0878</td>\n",
              "      <td>9.9153</td>\n",
              "      <td>29.0336</td>\n",
              "      <td>0</td>\n",
              "    </tr>\n",
              "    <tr>\n",
              "      <th>89</th>\n",
              "      <td>89</td>\n",
              "      <td>30-03-19 10:42</td>\n",
              "      <td>17</td>\n",
              "      <td>95.0000</td>\n",
              "      <td>1.0200</td>\n",
              "      <td>108.9132</td>\n",
              "      <td>0.0873</td>\n",
              "      <td>9.8432</td>\n",
              "      <td>28.6580</td>\n",
              "      <td>0</td>\n",
              "    </tr>\n",
              "    <tr>\n",
              "      <th>95</th>\n",
              "      <td>95</td>\n",
              "      <td>30-03-19 12:28</td>\n",
              "      <td>5</td>\n",
              "      <td>85.0000</td>\n",
              "      <td>392.6326</td>\n",
              "      <td>108.9229</td>\n",
              "      <td>0.0292</td>\n",
              "      <td>14.2488</td>\n",
              "      <td>29.2475</td>\n",
              "      <td>0</td>\n",
              "    </tr>\n",
              "    <tr>\n",
              "      <th>...</th>\n",
              "      <td>...</td>\n",
              "      <td>...</td>\n",
              "      <td>...</td>\n",
              "      <td>...</td>\n",
              "      <td>...</td>\n",
              "      <td>...</td>\n",
              "      <td>...</td>\n",
              "      <td>...</td>\n",
              "      <td>...</td>\n",
              "      <td>...</td>\n",
              "    </tr>\n",
              "    <tr>\n",
              "      <th>38239</th>\n",
              "      <td>38239</td>\n",
              "      <td>31-12-19 5:26</td>\n",
              "      <td>180</td>\n",
              "      <td>83.0000</td>\n",
              "      <td>396.6415</td>\n",
              "      <td>19.2422</td>\n",
              "      <td>0.1113</td>\n",
              "      <td>8.0206</td>\n",
              "      <td>16.0129</td>\n",
              "      <td>0</td>\n",
              "    </tr>\n",
              "    <tr>\n",
              "      <th>38303</th>\n",
              "      <td>38303</td>\n",
              "      <td>31-12-19 6:31</td>\n",
              "      <td>244</td>\n",
              "      <td>84.0000</td>\n",
              "      <td>396.6355</td>\n",
              "      <td>19.2422</td>\n",
              "      <td>0.1106</td>\n",
              "      <td>8.0024</td>\n",
              "      <td>15.9840</td>\n",
              "      <td>0</td>\n",
              "    </tr>\n",
              "    <tr>\n",
              "      <th>38431</th>\n",
              "      <td>38431</td>\n",
              "      <td>31-12-19 8:43</td>\n",
              "      <td>117</td>\n",
              "      <td>84.0000</td>\n",
              "      <td>396.8191</td>\n",
              "      <td>19.2422</td>\n",
              "      <td>0.1102</td>\n",
              "      <td>8.0964</td>\n",
              "      <td>15.9387</td>\n",
              "      <td>0</td>\n",
              "    </tr>\n",
              "    <tr>\n",
              "      <th>38471</th>\n",
              "      <td>38471</td>\n",
              "      <td>31-12-19 9:23</td>\n",
              "      <td>157</td>\n",
              "      <td>83.0000</td>\n",
              "      <td>396.8784</td>\n",
              "      <td>19.2422</td>\n",
              "      <td>0.1100</td>\n",
              "      <td>8.1219</td>\n",
              "      <td>15.9211</td>\n",
              "      <td>0</td>\n",
              "    </tr>\n",
              "    <tr>\n",
              "      <th>38591</th>\n",
              "      <td>38591</td>\n",
              "      <td>31-12-19 11:27</td>\n",
              "      <td>22</td>\n",
              "      <td>80.0000</td>\n",
              "      <td>397.9538</td>\n",
              "      <td>19.2422</td>\n",
              "      <td>0.1108</td>\n",
              "      <td>8.0789</td>\n",
              "      <td>15.9400</td>\n",
              "      <td>0</td>\n",
              "    </tr>\n",
              "  </tbody>\n",
              "</table>\n",
              "<p>620 rows × 10 columns</p>\n",
              "</div>\n",
              "      <button class=\"colab-df-convert\" onclick=\"convertToInteractive('df-984f212a-cf24-4fc9-b0fc-2e4e2f39d85c')\"\n",
              "              title=\"Convert this dataframe to an interactive table.\"\n",
              "              style=\"display:none;\">\n",
              "        \n",
              "  <svg xmlns=\"http://www.w3.org/2000/svg\" height=\"24px\"viewBox=\"0 0 24 24\"\n",
              "       width=\"24px\">\n",
              "    <path d=\"M0 0h24v24H0V0z\" fill=\"none\"/>\n",
              "    <path d=\"M18.56 5.44l.94 2.06.94-2.06 2.06-.94-2.06-.94-.94-2.06-.94 2.06-2.06.94zm-11 1L8.5 8.5l.94-2.06 2.06-.94-2.06-.94L8.5 2.5l-.94 2.06-2.06.94zm10 10l.94 2.06.94-2.06 2.06-.94-2.06-.94-.94-2.06-.94 2.06-2.06.94z\"/><path d=\"M17.41 7.96l-1.37-1.37c-.4-.4-.92-.59-1.43-.59-.52 0-1.04.2-1.43.59L10.3 9.45l-7.72 7.72c-.78.78-.78 2.05 0 2.83L4 21.41c.39.39.9.59 1.41.59.51 0 1.02-.2 1.41-.59l7.78-7.78 2.81-2.81c.8-.78.8-2.07 0-2.86zM5.41 20L4 18.59l7.72-7.72 1.47 1.35L5.41 20z\"/>\n",
              "  </svg>\n",
              "      </button>\n",
              "      \n",
              "  <style>\n",
              "    .colab-df-container {\n",
              "      display:flex;\n",
              "      flex-wrap:wrap;\n",
              "      gap: 12px;\n",
              "    }\n",
              "\n",
              "    .colab-df-convert {\n",
              "      background-color: #E8F0FE;\n",
              "      border: none;\n",
              "      border-radius: 50%;\n",
              "      cursor: pointer;\n",
              "      display: none;\n",
              "      fill: #1967D2;\n",
              "      height: 32px;\n",
              "      padding: 0 0 0 0;\n",
              "      width: 32px;\n",
              "    }\n",
              "\n",
              "    .colab-df-convert:hover {\n",
              "      background-color: #E2EBFA;\n",
              "      box-shadow: 0px 1px 2px rgba(60, 64, 67, 0.3), 0px 1px 3px 1px rgba(60, 64, 67, 0.15);\n",
              "      fill: #174EA6;\n",
              "    }\n",
              "\n",
              "    [theme=dark] .colab-df-convert {\n",
              "      background-color: #3B4455;\n",
              "      fill: #D2E3FC;\n",
              "    }\n",
              "\n",
              "    [theme=dark] .colab-df-convert:hover {\n",
              "      background-color: #434B5C;\n",
              "      box-shadow: 0px 1px 3px 1px rgba(0, 0, 0, 0.15);\n",
              "      filter: drop-shadow(0px 1px 2px rgba(0, 0, 0, 0.3));\n",
              "      fill: #FFFFFF;\n",
              "    }\n",
              "  </style>\n",
              "\n",
              "      <script>\n",
              "        const buttonEl =\n",
              "          document.querySelector('#df-984f212a-cf24-4fc9-b0fc-2e4e2f39d85c button.colab-df-convert');\n",
              "        buttonEl.style.display =\n",
              "          google.colab.kernel.accessAllowed ? 'block' : 'none';\n",
              "\n",
              "        async function convertToInteractive(key) {\n",
              "          const element = document.querySelector('#df-984f212a-cf24-4fc9-b0fc-2e4e2f39d85c');\n",
              "          const dataTable =\n",
              "            await google.colab.kernel.invokeFunction('convertToInteractive',\n",
              "                                                     [key], {});\n",
              "          if (!dataTable) return;\n",
              "\n",
              "          const docLinkHtml = 'Like what you see? Visit the ' +\n",
              "            '<a target=\"_blank\" href=https://colab.research.google.com/notebooks/data_table.ipynb>data table notebook</a>'\n",
              "            + ' to learn more about interactive tables.';\n",
              "          element.innerHTML = '';\n",
              "          dataTable['output_type'] = 'display_data';\n",
              "          await google.colab.output.renderOutput(dataTable, element);\n",
              "          const docLink = document.createElement('div');\n",
              "          docLink.innerHTML = docLinkHtml;\n",
              "          element.appendChild(docLink);\n",
              "        }\n",
              "      </script>\n",
              "    </div>\n",
              "  </div>\n",
              "  "
            ]
          },
          "metadata": {},
          "execution_count": 5
        }
      ],
      "source": [
        "from sklearn import preprocessing\n",
        " \n",
        "# label_encoder object knows how to understand word labels.\n",
        "label_encoder = preprocessing.LabelEncoder()\n",
        " \n",
        "# Encode labels in column 'species'.\n",
        "df['Target']= label_encoder.fit_transform(df['Target'])\n",
        " \n",
        "df['Target'].unique()\n",
        "df[df['Target']==0]"
      ]
    },
    {
      "cell_type": "code",
      "execution_count": 6,
      "metadata": {
        "colab": {
          "base_uri": "https://localhost:8080/",
          "height": 423
        },
        "id": "oGrEmKVvN3p9",
        "outputId": "6bb56558-b770-4507-899f-680ac96d90a9"
      },
      "outputs": [
        {
          "output_type": "execute_result",
          "data": {
            "text/plain": [
              "          COND      DO      PH      WT\n",
              "0       0.0447 14.8328  8.8797 22.6502\n",
              "1       0.0447 14.1703  8.8668 22.5670\n",
              "2      46.1952 13.5012 12.3599 18.4008\n",
              "3      52.6097 20.7529 12.8257 18.0136\n",
              "4      52.3998 12.4094 12.9990 18.1846\n",
              "...        ...     ...     ...     ...\n",
              "46978 721.8673 10.0086  9.3776 27.1307\n",
              "46979 722.1170 10.0086  9.3750 27.1423\n",
              "46980 722.0287 10.0086  9.3758 27.1400\n",
              "46981 721.9607 10.0086  9.3802 27.1350\n",
              "46982 722.1146 10.0086  9.3706 27.1315\n",
              "\n",
              "[46983 rows x 4 columns]"
            ],
            "text/html": [
              "\n",
              "  <div id=\"df-18a00478-edbf-4bc5-9ded-9972f25d2c39\">\n",
              "    <div class=\"colab-df-container\">\n",
              "      <div>\n",
              "<style scoped>\n",
              "    .dataframe tbody tr th:only-of-type {\n",
              "        vertical-align: middle;\n",
              "    }\n",
              "\n",
              "    .dataframe tbody tr th {\n",
              "        vertical-align: top;\n",
              "    }\n",
              "\n",
              "    .dataframe thead th {\n",
              "        text-align: right;\n",
              "    }\n",
              "</style>\n",
              "<table border=\"1\" class=\"dataframe\">\n",
              "  <thead>\n",
              "    <tr style=\"text-align: right;\">\n",
              "      <th></th>\n",
              "      <th>COND</th>\n",
              "      <th>DO</th>\n",
              "      <th>PH</th>\n",
              "      <th>WT</th>\n",
              "    </tr>\n",
              "  </thead>\n",
              "  <tbody>\n",
              "    <tr>\n",
              "      <th>0</th>\n",
              "      <td>0.0447</td>\n",
              "      <td>14.8328</td>\n",
              "      <td>8.8797</td>\n",
              "      <td>22.6502</td>\n",
              "    </tr>\n",
              "    <tr>\n",
              "      <th>1</th>\n",
              "      <td>0.0447</td>\n",
              "      <td>14.1703</td>\n",
              "      <td>8.8668</td>\n",
              "      <td>22.5670</td>\n",
              "    </tr>\n",
              "    <tr>\n",
              "      <th>2</th>\n",
              "      <td>46.1952</td>\n",
              "      <td>13.5012</td>\n",
              "      <td>12.3599</td>\n",
              "      <td>18.4008</td>\n",
              "    </tr>\n",
              "    <tr>\n",
              "      <th>3</th>\n",
              "      <td>52.6097</td>\n",
              "      <td>20.7529</td>\n",
              "      <td>12.8257</td>\n",
              "      <td>18.0136</td>\n",
              "    </tr>\n",
              "    <tr>\n",
              "      <th>4</th>\n",
              "      <td>52.3998</td>\n",
              "      <td>12.4094</td>\n",
              "      <td>12.9990</td>\n",
              "      <td>18.1846</td>\n",
              "    </tr>\n",
              "    <tr>\n",
              "      <th>...</th>\n",
              "      <td>...</td>\n",
              "      <td>...</td>\n",
              "      <td>...</td>\n",
              "      <td>...</td>\n",
              "    </tr>\n",
              "    <tr>\n",
              "      <th>46978</th>\n",
              "      <td>721.8673</td>\n",
              "      <td>10.0086</td>\n",
              "      <td>9.3776</td>\n",
              "      <td>27.1307</td>\n",
              "    </tr>\n",
              "    <tr>\n",
              "      <th>46979</th>\n",
              "      <td>722.1170</td>\n",
              "      <td>10.0086</td>\n",
              "      <td>9.3750</td>\n",
              "      <td>27.1423</td>\n",
              "    </tr>\n",
              "    <tr>\n",
              "      <th>46980</th>\n",
              "      <td>722.0287</td>\n",
              "      <td>10.0086</td>\n",
              "      <td>9.3758</td>\n",
              "      <td>27.1400</td>\n",
              "    </tr>\n",
              "    <tr>\n",
              "      <th>46981</th>\n",
              "      <td>721.9607</td>\n",
              "      <td>10.0086</td>\n",
              "      <td>9.3802</td>\n",
              "      <td>27.1350</td>\n",
              "    </tr>\n",
              "    <tr>\n",
              "      <th>46982</th>\n",
              "      <td>722.1146</td>\n",
              "      <td>10.0086</td>\n",
              "      <td>9.3706</td>\n",
              "      <td>27.1315</td>\n",
              "    </tr>\n",
              "  </tbody>\n",
              "</table>\n",
              "<p>46983 rows × 4 columns</p>\n",
              "</div>\n",
              "      <button class=\"colab-df-convert\" onclick=\"convertToInteractive('df-18a00478-edbf-4bc5-9ded-9972f25d2c39')\"\n",
              "              title=\"Convert this dataframe to an interactive table.\"\n",
              "              style=\"display:none;\">\n",
              "        \n",
              "  <svg xmlns=\"http://www.w3.org/2000/svg\" height=\"24px\"viewBox=\"0 0 24 24\"\n",
              "       width=\"24px\">\n",
              "    <path d=\"M0 0h24v24H0V0z\" fill=\"none\"/>\n",
              "    <path d=\"M18.56 5.44l.94 2.06.94-2.06 2.06-.94-2.06-.94-.94-2.06-.94 2.06-2.06.94zm-11 1L8.5 8.5l.94-2.06 2.06-.94-2.06-.94L8.5 2.5l-.94 2.06-2.06.94zm10 10l.94 2.06.94-2.06 2.06-.94-2.06-.94-.94-2.06-.94 2.06-2.06.94z\"/><path d=\"M17.41 7.96l-1.37-1.37c-.4-.4-.92-.59-1.43-.59-.52 0-1.04.2-1.43.59L10.3 9.45l-7.72 7.72c-.78.78-.78 2.05 0 2.83L4 21.41c.39.39.9.59 1.41.59.51 0 1.02-.2 1.41-.59l7.78-7.78 2.81-2.81c.8-.78.8-2.07 0-2.86zM5.41 20L4 18.59l7.72-7.72 1.47 1.35L5.41 20z\"/>\n",
              "  </svg>\n",
              "      </button>\n",
              "      \n",
              "  <style>\n",
              "    .colab-df-container {\n",
              "      display:flex;\n",
              "      flex-wrap:wrap;\n",
              "      gap: 12px;\n",
              "    }\n",
              "\n",
              "    .colab-df-convert {\n",
              "      background-color: #E8F0FE;\n",
              "      border: none;\n",
              "      border-radius: 50%;\n",
              "      cursor: pointer;\n",
              "      display: none;\n",
              "      fill: #1967D2;\n",
              "      height: 32px;\n",
              "      padding: 0 0 0 0;\n",
              "      width: 32px;\n",
              "    }\n",
              "\n",
              "    .colab-df-convert:hover {\n",
              "      background-color: #E2EBFA;\n",
              "      box-shadow: 0px 1px 2px rgba(60, 64, 67, 0.3), 0px 1px 3px 1px rgba(60, 64, 67, 0.15);\n",
              "      fill: #174EA6;\n",
              "    }\n",
              "\n",
              "    [theme=dark] .colab-df-convert {\n",
              "      background-color: #3B4455;\n",
              "      fill: #D2E3FC;\n",
              "    }\n",
              "\n",
              "    [theme=dark] .colab-df-convert:hover {\n",
              "      background-color: #434B5C;\n",
              "      box-shadow: 0px 1px 3px 1px rgba(0, 0, 0, 0.15);\n",
              "      filter: drop-shadow(0px 1px 2px rgba(0, 0, 0, 0.3));\n",
              "      fill: #FFFFFF;\n",
              "    }\n",
              "  </style>\n",
              "\n",
              "      <script>\n",
              "        const buttonEl =\n",
              "          document.querySelector('#df-18a00478-edbf-4bc5-9ded-9972f25d2c39 button.colab-df-convert');\n",
              "        buttonEl.style.display =\n",
              "          google.colab.kernel.accessAllowed ? 'block' : 'none';\n",
              "\n",
              "        async function convertToInteractive(key) {\n",
              "          const element = document.querySelector('#df-18a00478-edbf-4bc5-9ded-9972f25d2c39');\n",
              "          const dataTable =\n",
              "            await google.colab.kernel.invokeFunction('convertToInteractive',\n",
              "                                                     [key], {});\n",
              "          if (!dataTable) return;\n",
              "\n",
              "          const docLinkHtml = 'Like what you see? Visit the ' +\n",
              "            '<a target=\"_blank\" href=https://colab.research.google.com/notebooks/data_table.ipynb>data table notebook</a>'\n",
              "            + ' to learn more about interactive tables.';\n",
              "          element.innerHTML = '';\n",
              "          dataTable['output_type'] = 'display_data';\n",
              "          await google.colab.output.renderOutput(dataTable, element);\n",
              "          const docLink = document.createElement('div');\n",
              "          docLink.innerHTML = docLinkHtml;\n",
              "          element.appendChild(docLink);\n",
              "        }\n",
              "      </script>\n",
              "    </div>\n",
              "  </div>\n",
              "  "
            ]
          },
          "metadata": {},
          "execution_count": 6
        }
      ],
      "source": [
        "main_data=df.iloc[:,[4,5,7,8]]\n",
        "main_data"
      ]
    },
    {
      "cell_type": "code",
      "execution_count": 7,
      "metadata": {
        "id": "CjgxYEfdBNp8"
      },
      "outputs": [],
      "source": [
        "from keras import backend as K\n",
        "\n",
        "def recall_m(y_true, y_pred):\n",
        "    true_positives = K.sum(K.round(K.clip(y_true * y_pred, 0, 1)))\n",
        "    possible_positives = K.sum(K.round(K.clip(y_true, 0, 1)))\n",
        "    recall = true_positives / (possible_positives + K.epsilon())\n",
        "    return recall\n",
        "\n",
        "def precision_m(y_true, y_pred):\n",
        "    true_positives = K.sum(K.round(K.clip(y_true * y_pred, 0, 1)))\n",
        "    predicted_positives = K.sum(K.round(K.clip(y_pred, 0, 1)))\n",
        "    precision = true_positives / (predicted_positives + K.epsilon())\n",
        "    return precision\n",
        "\n",
        "def f1_m(y_true, y_pred):\n",
        "    precision = precision_m(y_true, y_pred)\n",
        "    recall = recall_m(y_true, y_pred)\n",
        "    return 2*((precision*recall)/(precision+recall+K.epsilon()))"
      ]
    },
    {
      "cell_type": "code",
      "execution_count": 8,
      "metadata": {
        "id": "_zNXvlGjOMz9"
      },
      "outputs": [],
      "source": [
        "scaler = MinMaxScaler(feature_range=(0, 1))\n",
        "dataset = scaler.fit_transform(main_data)"
      ]
    },
    {
      "cell_type": "code",
      "execution_count": 9,
      "metadata": {
        "colab": {
          "base_uri": "https://localhost:8080/"
        },
        "id": "Iay0naO-OTs8",
        "outputId": "16386b98-eb6e-42c7-90f9-c67a839ae553"
      },
      "outputs": [
        {
          "output_type": "stream",
          "name": "stdout",
          "text": [
            "(23491, 4) (23492, 4) (23491,) (23492,)\n"
          ]
        }
      ],
      "source": [
        "from sklearn.datasets import make_blobs\n",
        "from sklearn.model_selection import train_test_split\n",
        "# create dataset\n",
        "X, y = dataset,df['Target']\n",
        "# split into train test sets\n",
        "X_train, X_test, y_train, y_test = train_test_split(X, y, test_size=0.50)\n",
        "print(X_train.shape, X_test.shape, y_train.shape, y_test.shape)"
      ]
    },
    {
      "cell_type": "code",
      "execution_count": 10,
      "metadata": {
        "id": "ghXlGAJfPZeV"
      },
      "outputs": [],
      "source": [
        "X_train = np.reshape(X_train, (X_train.shape[0], 1, X_train.shape[1]))\n",
        "X_test = np.reshape(X_test, (X_test.shape[0], 1, X_test.shape[1]))\n",
        "\n"
      ]
    },
    {
      "cell_type": "code",
      "execution_count": 11,
      "metadata": {
        "id": "G0Mjtj9HBtiQ"
      },
      "outputs": [],
      "source": [
        "METRICS = [\n",
        "      keras.metrics.TruePositives(name='tp'),\n",
        "      keras.metrics.FalsePositives(name='fp'),\n",
        "      keras.metrics.TrueNegatives(name='tn'),\n",
        "      keras.metrics.FalseNegatives(name='fn'), \n",
        "      keras.metrics.BinaryAccuracy(name='accuracy'),\n",
        "      keras.metrics.Precision(name='precision'),\n",
        "      keras.metrics.Recall(name='recall'),\n",
        "      keras.metrics.AUC(name='auc'),\n",
        "      keras.metrics.AUC(name='prc', curve='PR'), # precision-recall curve\n",
        "]"
      ]
    },
    {
      "cell_type": "code",
      "execution_count": 12,
      "metadata": {
        "colab": {
          "base_uri": "https://localhost:8080/"
        },
        "id": "u2WCVwJcR_7b",
        "outputId": "50903474-f131-40eb-b1a4-ee948090a46e"
      },
      "outputs": [
        {
          "output_type": "stream",
          "name": "stdout",
          "text": [
            "Epoch 1/30\n",
            "336/336 [==============================] - 11s 18ms/step - loss: 0.1964 - tp: 23073.0000 - fp: 291.0000 - tn: 0.0000e+00 - fn: 127.0000 - accuracy: 0.9822 - precision: 0.9875 - recall: 0.9945 - auc: 0.5194 - prc: 0.9881 - val_loss: 0.0774 - val_tp: 23163.0000 - val_fp: 329.0000 - val_tn: 0.0000e+00 - val_fn: 0.0000e+00 - val_accuracy: 0.9860 - val_precision: 0.9860 - val_recall: 1.0000 - val_auc: 0.4338 - val_prc: 0.9835\n",
            "Epoch 2/30\n",
            "336/336 [==============================] - 4s 11ms/step - loss: 0.0687 - tp: 23200.0000 - fp: 291.0000 - tn: 0.0000e+00 - fn: 0.0000e+00 - accuracy: 0.9876 - precision: 0.9876 - recall: 1.0000 - auc: 0.5173 - prc: 0.9880 - val_loss: 0.0760 - val_tp: 23163.0000 - val_fp: 329.0000 - val_tn: 0.0000e+00 - val_fn: 0.0000e+00 - val_accuracy: 0.9860 - val_precision: 0.9860 - val_recall: 1.0000 - val_auc: 0.5131 - val_prc: 0.9860\n",
            "Epoch 3/30\n",
            "336/336 [==============================] - 6s 17ms/step - loss: 0.0676 - tp: 23200.0000 - fp: 291.0000 - tn: 0.0000e+00 - fn: 0.0000e+00 - accuracy: 0.9876 - precision: 0.9876 - recall: 1.0000 - auc: 0.5518 - prc: 0.9892 - val_loss: 0.0750 - val_tp: 23163.0000 - val_fp: 329.0000 - val_tn: 0.0000e+00 - val_fn: 0.0000e+00 - val_accuracy: 0.9860 - val_precision: 0.9860 - val_recall: 1.0000 - val_auc: 0.5410 - val_prc: 0.9872\n",
            "Epoch 4/30\n",
            "336/336 [==============================] - 4s 12ms/step - loss: 0.0666 - tp: 23200.0000 - fp: 291.0000 - tn: 0.0000e+00 - fn: 0.0000e+00 - accuracy: 0.9876 - precision: 0.9876 - recall: 1.0000 - auc: 0.5971 - prc: 0.9907 - val_loss: 0.0745 - val_tp: 23163.0000 - val_fp: 329.0000 - val_tn: 0.0000e+00 - val_fn: 0.0000e+00 - val_accuracy: 0.9860 - val_precision: 0.9860 - val_recall: 1.0000 - val_auc: 0.5560 - val_prc: 0.9881\n",
            "Epoch 5/30\n",
            "336/336 [==============================] - 2s 6ms/step - loss: 0.0665 - tp: 23200.0000 - fp: 291.0000 - tn: 0.0000e+00 - fn: 0.0000e+00 - accuracy: 0.9876 - precision: 0.9876 - recall: 1.0000 - auc: 0.5990 - prc: 0.9906 - val_loss: 0.0742 - val_tp: 23163.0000 - val_fp: 329.0000 - val_tn: 0.0000e+00 - val_fn: 0.0000e+00 - val_accuracy: 0.9860 - val_precision: 0.9860 - val_recall: 1.0000 - val_auc: 0.5648 - val_prc: 0.9886\n",
            "Epoch 6/30\n",
            "336/336 [==============================] - 3s 8ms/step - loss: 0.0661 - tp: 23200.0000 - fp: 291.0000 - tn: 0.0000e+00 - fn: 0.0000e+00 - accuracy: 0.9876 - precision: 0.9876 - recall: 1.0000 - auc: 0.6119 - prc: 0.9913 - val_loss: 0.0741 - val_tp: 23163.0000 - val_fp: 329.0000 - val_tn: 0.0000e+00 - val_fn: 0.0000e+00 - val_accuracy: 0.9860 - val_precision: 0.9860 - val_recall: 1.0000 - val_auc: 0.5775 - val_prc: 0.9890\n",
            "Epoch 7/30\n",
            "336/336 [==============================] - 2s 6ms/step - loss: 0.0661 - tp: 23200.0000 - fp: 291.0000 - tn: 0.0000e+00 - fn: 0.0000e+00 - accuracy: 0.9876 - precision: 0.9876 - recall: 1.0000 - auc: 0.6087 - prc: 0.9910 - val_loss: 0.0745 - val_tp: 23163.0000 - val_fp: 329.0000 - val_tn: 0.0000e+00 - val_fn: 0.0000e+00 - val_accuracy: 0.9860 - val_precision: 0.9860 - val_recall: 1.0000 - val_auc: 0.5670 - val_prc: 0.9880\n",
            "Epoch 8/30\n",
            "336/336 [==============================] - 3s 8ms/step - loss: 0.0661 - tp: 23200.0000 - fp: 291.0000 - tn: 0.0000e+00 - fn: 0.0000e+00 - accuracy: 0.9876 - precision: 0.9876 - recall: 1.0000 - auc: 0.6155 - prc: 0.9914 - val_loss: 0.0738 - val_tp: 23163.0000 - val_fp: 329.0000 - val_tn: 0.0000e+00 - val_fn: 0.0000e+00 - val_accuracy: 0.9860 - val_precision: 0.9860 - val_recall: 1.0000 - val_auc: 0.5817 - val_prc: 0.9894\n",
            "Epoch 9/30\n",
            "336/336 [==============================] - 3s 8ms/step - loss: 0.0660 - tp: 23200.0000 - fp: 291.0000 - tn: 0.0000e+00 - fn: 0.0000e+00 - accuracy: 0.9876 - precision: 0.9876 - recall: 1.0000 - auc: 0.6126 - prc: 0.9916 - val_loss: 0.0738 - val_tp: 23163.0000 - val_fp: 329.0000 - val_tn: 0.0000e+00 - val_fn: 0.0000e+00 - val_accuracy: 0.9860 - val_precision: 0.9860 - val_recall: 1.0000 - val_auc: 0.5825 - val_prc: 0.9892\n",
            "Epoch 10/30\n",
            "336/336 [==============================] - 3s 8ms/step - loss: 0.0660 - tp: 23200.0000 - fp: 291.0000 - tn: 0.0000e+00 - fn: 0.0000e+00 - accuracy: 0.9876 - precision: 0.9876 - recall: 1.0000 - auc: 0.6117 - prc: 0.9913 - val_loss: 0.0736 - val_tp: 23163.0000 - val_fp: 329.0000 - val_tn: 0.0000e+00 - val_fn: 0.0000e+00 - val_accuracy: 0.9860 - val_precision: 0.9860 - val_recall: 1.0000 - val_auc: 0.5862 - val_prc: 0.9893\n",
            "Epoch 11/30\n",
            "336/336 [==============================] - 2s 6ms/step - loss: 0.0658 - tp: 23200.0000 - fp: 291.0000 - tn: 0.0000e+00 - fn: 0.0000e+00 - accuracy: 0.9876 - precision: 0.9876 - recall: 1.0000 - auc: 0.6147 - prc: 0.9913 - val_loss: 0.0735 - val_tp: 23163.0000 - val_fp: 329.0000 - val_tn: 0.0000e+00 - val_fn: 0.0000e+00 - val_accuracy: 0.9860 - val_precision: 0.9860 - val_recall: 1.0000 - val_auc: 0.5887 - val_prc: 0.9895\n",
            "Epoch 12/30\n",
            "336/336 [==============================] - 2s 6ms/step - loss: 0.0659 - tp: 23200.0000 - fp: 291.0000 - tn: 0.0000e+00 - fn: 0.0000e+00 - accuracy: 0.9876 - precision: 0.9876 - recall: 1.0000 - auc: 0.6152 - prc: 0.9916 - val_loss: 0.0733 - val_tp: 23163.0000 - val_fp: 329.0000 - val_tn: 0.0000e+00 - val_fn: 0.0000e+00 - val_accuracy: 0.9860 - val_precision: 0.9860 - val_recall: 1.0000 - val_auc: 0.5818 - val_prc: 0.9895\n",
            "Epoch 13/30\n",
            "336/336 [==============================] - 2s 6ms/step - loss: 0.0658 - tp: 23200.0000 - fp: 291.0000 - tn: 0.0000e+00 - fn: 0.0000e+00 - accuracy: 0.9876 - precision: 0.9876 - recall: 1.0000 - auc: 0.6105 - prc: 0.9914 - val_loss: 0.0734 - val_tp: 23163.0000 - val_fp: 329.0000 - val_tn: 0.0000e+00 - val_fn: 0.0000e+00 - val_accuracy: 0.9860 - val_precision: 0.9860 - val_recall: 1.0000 - val_auc: 0.5882 - val_prc: 0.9895\n",
            "Epoch 14/30\n",
            "336/336 [==============================] - 2s 6ms/step - loss: 0.0659 - tp: 23200.0000 - fp: 291.0000 - tn: 0.0000e+00 - fn: 0.0000e+00 - accuracy: 0.9876 - precision: 0.9876 - recall: 1.0000 - auc: 0.6130 - prc: 0.9912 - val_loss: 0.0731 - val_tp: 23163.0000 - val_fp: 329.0000 - val_tn: 0.0000e+00 - val_fn: 0.0000e+00 - val_accuracy: 0.9860 - val_precision: 0.9860 - val_recall: 1.0000 - val_auc: 0.5811 - val_prc: 0.9895\n",
            "Epoch 15/30\n",
            "336/336 [==============================] - 2s 6ms/step - loss: 0.0658 - tp: 23200.0000 - fp: 291.0000 - tn: 0.0000e+00 - fn: 0.0000e+00 - accuracy: 0.9876 - precision: 0.9876 - recall: 1.0000 - auc: 0.6142 - prc: 0.9918 - val_loss: 0.0730 - val_tp: 23163.0000 - val_fp: 329.0000 - val_tn: 0.0000e+00 - val_fn: 0.0000e+00 - val_accuracy: 0.9860 - val_precision: 0.9860 - val_recall: 1.0000 - val_auc: 0.5899 - val_prc: 0.9898\n",
            "Epoch 16/30\n",
            "336/336 [==============================] - 3s 8ms/step - loss: 0.0657 - tp: 23200.0000 - fp: 291.0000 - tn: 0.0000e+00 - fn: 0.0000e+00 - accuracy: 0.9876 - precision: 0.9876 - recall: 1.0000 - auc: 0.6216 - prc: 0.9921 - val_loss: 0.0731 - val_tp: 23163.0000 - val_fp: 329.0000 - val_tn: 0.0000e+00 - val_fn: 0.0000e+00 - val_accuracy: 0.9860 - val_precision: 0.9860 - val_recall: 1.0000 - val_auc: 0.5896 - val_prc: 0.9900\n",
            "Epoch 17/30\n",
            "336/336 [==============================] - 2s 6ms/step - loss: 0.0656 - tp: 23200.0000 - fp: 291.0000 - tn: 0.0000e+00 - fn: 0.0000e+00 - accuracy: 0.9876 - precision: 0.9876 - recall: 1.0000 - auc: 0.6176 - prc: 0.9918 - val_loss: 0.0729 - val_tp: 23163.0000 - val_fp: 329.0000 - val_tn: 0.0000e+00 - val_fn: 0.0000e+00 - val_accuracy: 0.9860 - val_precision: 0.9860 - val_recall: 1.0000 - val_auc: 0.5946 - val_prc: 0.9900\n",
            "Epoch 18/30\n",
            "336/336 [==============================] - 3s 8ms/step - loss: 0.0655 - tp: 23200.0000 - fp: 291.0000 - tn: 0.0000e+00 - fn: 0.0000e+00 - accuracy: 0.9876 - precision: 0.9876 - recall: 1.0000 - auc: 0.6276 - prc: 0.9924 - val_loss: 0.0732 - val_tp: 23163.0000 - val_fp: 329.0000 - val_tn: 0.0000e+00 - val_fn: 0.0000e+00 - val_accuracy: 0.9860 - val_precision: 0.9860 - val_recall: 1.0000 - val_auc: 0.5918 - val_prc: 0.9898\n",
            "Epoch 19/30\n",
            "336/336 [==============================] - 3s 8ms/step - loss: 0.0655 - tp: 23200.0000 - fp: 291.0000 - tn: 0.0000e+00 - fn: 0.0000e+00 - accuracy: 0.9876 - precision: 0.9876 - recall: 1.0000 - auc: 0.6312 - prc: 0.9923 - val_loss: 0.0735 - val_tp: 23163.0000 - val_fp: 329.0000 - val_tn: 0.0000e+00 - val_fn: 0.0000e+00 - val_accuracy: 0.9860 - val_precision: 0.9860 - val_recall: 1.0000 - val_auc: 0.5900 - val_prc: 0.9898\n",
            "Epoch 20/30\n",
            "336/336 [==============================] - 3s 8ms/step - loss: 0.0656 - tp: 23200.0000 - fp: 291.0000 - tn: 0.0000e+00 - fn: 0.0000e+00 - accuracy: 0.9876 - precision: 0.9876 - recall: 1.0000 - auc: 0.6236 - prc: 0.9919 - val_loss: 0.0731 - val_tp: 23163.0000 - val_fp: 329.0000 - val_tn: 0.0000e+00 - val_fn: 0.0000e+00 - val_accuracy: 0.9860 - val_precision: 0.9860 - val_recall: 1.0000 - val_auc: 0.5886 - val_prc: 0.9900\n",
            "Epoch 21/30\n",
            "336/336 [==============================] - 2s 7ms/step - loss: 0.0652 - tp: 23200.0000 - fp: 291.0000 - tn: 0.0000e+00 - fn: 0.0000e+00 - accuracy: 0.9876 - precision: 0.9876 - recall: 1.0000 - auc: 0.6339 - prc: 0.9920 - val_loss: 0.0730 - val_tp: 23163.0000 - val_fp: 329.0000 - val_tn: 0.0000e+00 - val_fn: 0.0000e+00 - val_accuracy: 0.9860 - val_precision: 0.9860 - val_recall: 1.0000 - val_auc: 0.5878 - val_prc: 0.9897\n",
            "Epoch 22/30\n",
            "336/336 [==============================] - 2s 6ms/step - loss: 0.0658 - tp: 23200.0000 - fp: 291.0000 - tn: 0.0000e+00 - fn: 0.0000e+00 - accuracy: 0.9876 - precision: 0.9876 - recall: 1.0000 - auc: 0.6202 - prc: 0.9918 - val_loss: 0.0727 - val_tp: 23163.0000 - val_fp: 329.0000 - val_tn: 0.0000e+00 - val_fn: 0.0000e+00 - val_accuracy: 0.9860 - val_precision: 0.9860 - val_recall: 1.0000 - val_auc: 0.6073 - val_prc: 0.9904\n",
            "Epoch 23/30\n",
            "336/336 [==============================] - 3s 8ms/step - loss: 0.0653 - tp: 23200.0000 - fp: 291.0000 - tn: 0.0000e+00 - fn: 0.0000e+00 - accuracy: 0.9876 - precision: 0.9876 - recall: 1.0000 - auc: 0.6346 - prc: 0.9923 - val_loss: 0.0729 - val_tp: 23163.0000 - val_fp: 329.0000 - val_tn: 0.0000e+00 - val_fn: 0.0000e+00 - val_accuracy: 0.9860 - val_precision: 0.9860 - val_recall: 1.0000 - val_auc: 0.5883 - val_prc: 0.9898\n",
            "Epoch 24/30\n",
            "336/336 [==============================] - 2s 7ms/step - loss: 0.0656 - tp: 23200.0000 - fp: 291.0000 - tn: 0.0000e+00 - fn: 0.0000e+00 - accuracy: 0.9876 - precision: 0.9876 - recall: 1.0000 - auc: 0.6125 - prc: 0.9914 - val_loss: 0.0727 - val_tp: 23163.0000 - val_fp: 329.0000 - val_tn: 0.0000e+00 - val_fn: 0.0000e+00 - val_accuracy: 0.9860 - val_precision: 0.9860 - val_recall: 1.0000 - val_auc: 0.6013 - val_prc: 0.9902\n",
            "Epoch 25/30\n",
            "336/336 [==============================] - 2s 7ms/step - loss: 0.0657 - tp: 23200.0000 - fp: 291.0000 - tn: 0.0000e+00 - fn: 0.0000e+00 - accuracy: 0.9876 - precision: 0.9876 - recall: 1.0000 - auc: 0.6077 - prc: 0.9918 - val_loss: 0.0728 - val_tp: 23163.0000 - val_fp: 329.0000 - val_tn: 0.0000e+00 - val_fn: 0.0000e+00 - val_accuracy: 0.9860 - val_precision: 0.9860 - val_recall: 1.0000 - val_auc: 0.6030 - val_prc: 0.9902\n",
            "Epoch 26/30\n",
            "336/336 [==============================] - 2s 6ms/step - loss: 0.0656 - tp: 23200.0000 - fp: 291.0000 - tn: 0.0000e+00 - fn: 0.0000e+00 - accuracy: 0.9876 - precision: 0.9876 - recall: 1.0000 - auc: 0.6106 - prc: 0.9914 - val_loss: 0.0727 - val_tp: 23163.0000 - val_fp: 329.0000 - val_tn: 0.0000e+00 - val_fn: 0.0000e+00 - val_accuracy: 0.9860 - val_precision: 0.9860 - val_recall: 1.0000 - val_auc: 0.6039 - val_prc: 0.9903\n",
            "Epoch 27/30\n",
            "336/336 [==============================] - 2s 6ms/step - loss: 0.0655 - tp: 23200.0000 - fp: 291.0000 - tn: 0.0000e+00 - fn: 0.0000e+00 - accuracy: 0.9876 - precision: 0.9876 - recall: 1.0000 - auc: 0.6223 - prc: 0.9921 - val_loss: 0.0727 - val_tp: 23163.0000 - val_fp: 329.0000 - val_tn: 0.0000e+00 - val_fn: 0.0000e+00 - val_accuracy: 0.9860 - val_precision: 0.9860 - val_recall: 1.0000 - val_auc: 0.6068 - val_prc: 0.9904\n",
            "Epoch 28/30\n",
            "336/336 [==============================] - 3s 8ms/step - loss: 0.0656 - tp: 23200.0000 - fp: 291.0000 - tn: 0.0000e+00 - fn: 0.0000e+00 - accuracy: 0.9876 - precision: 0.9876 - recall: 1.0000 - auc: 0.6208 - prc: 0.9918 - val_loss: 0.0727 - val_tp: 23163.0000 - val_fp: 329.0000 - val_tn: 0.0000e+00 - val_fn: 0.0000e+00 - val_accuracy: 0.9860 - val_precision: 0.9860 - val_recall: 1.0000 - val_auc: 0.6069 - val_prc: 0.9904\n",
            "Epoch 29/30\n",
            "336/336 [==============================] - 3s 8ms/step - loss: 0.0658 - tp: 23200.0000 - fp: 291.0000 - tn: 0.0000e+00 - fn: 0.0000e+00 - accuracy: 0.9876 - precision: 0.9876 - recall: 1.0000 - auc: 0.6069 - prc: 0.9912 - val_loss: 0.0728 - val_tp: 23163.0000 - val_fp: 329.0000 - val_tn: 0.0000e+00 - val_fn: 0.0000e+00 - val_accuracy: 0.9860 - val_precision: 0.9860 - val_recall: 1.0000 - val_auc: 0.6020 - val_prc: 0.9905\n",
            "Epoch 30/30\n",
            "336/336 [==============================] - 4s 11ms/step - loss: 0.0657 - tp: 23200.0000 - fp: 291.0000 - tn: 0.0000e+00 - fn: 0.0000e+00 - accuracy: 0.9876 - precision: 0.9876 - recall: 1.0000 - auc: 0.6147 - prc: 0.9916 - val_loss: 0.0727 - val_tp: 23163.0000 - val_fp: 329.0000 - val_tn: 0.0000e+00 - val_fn: 0.0000e+00 - val_accuracy: 0.9860 - val_precision: 0.9860 - val_recall: 1.0000 - val_auc: 0.6094 - val_prc: 0.9904\n",
            "Model: \"sequential\"\n",
            "_________________________________________________________________\n",
            " Layer (type)                Output Shape              Param #   \n",
            "=================================================================\n",
            " lstm (LSTM)                 (None, 100)               42000     \n",
            "                                                                 \n",
            " dropout (Dropout)           (None, 100)               0         \n",
            "                                                                 \n",
            " dense (Dense)               (None, 1)                 101       \n",
            "                                                                 \n",
            "=================================================================\n",
            "Total params: 42,101\n",
            "Trainable params: 42,101\n",
            "Non-trainable params: 0\n",
            "_________________________________________________________________\n"
          ]
        }
      ],
      "source": [
        "model = Sequential()\n",
        "model.add(LSTM(100, input_shape=(X_train.shape[1], X_train.shape[2])))\n",
        "model.add(Dropout(0.2))\n",
        "model.add(Dense(1, activation='sigmoid'))\n",
        "model.compile(loss='binary_crossentropy', \n",
        "              optimizer='adam', metrics=METRICS)\n",
        "\n",
        "history = model.fit(X_train, y_train, epochs=30, batch_size=70, validation_data=(X_test, y_test), verbose=1)\n",
        "\n",
        "model.summary()"
      ]
    },
    {
      "cell_type": "code",
      "execution_count": null,
      "metadata": {
        "colab": {
          "background_save": true
        },
        "id": "FhAyDaQmMCsL",
        "outputId": "935d9047-9e5c-4805-b95e-913304f4e877"
      },
      "outputs": [
        {
          "data": {
            "text/plain": [
              "(23491, 1)"
            ]
          },
          "execution_count": null,
          "metadata": {},
          "output_type": "execute_result"
        }
      ],
      "source": [
        "train_predict = model.predict(X_train)\n",
        "test_predict = model.predict(X_test)\n",
        "train_predict.shape"
      ]
    },
    {
      "cell_type": "code",
      "execution_count": 13,
      "metadata": {
        "id": "PVY79tqlC--8"
      },
      "outputs": [],
      "source": [
        "loss,tp,fp,tn,fn,accuracy,precision, recall,auc,prc = model.evaluate(X_test, y_test, verbose=0)"
      ]
    },
    {
      "cell_type": "code",
      "execution_count": 14,
      "metadata": {
        "colab": {
          "base_uri": "https://localhost:8080/"
        },
        "id": "H5krMsetDBY7",
        "outputId": "b4406008-8637-403d-dd01-eb7f60e319c4"
      },
      "outputs": [
        {
          "output_type": "execute_result",
          "data": {
            "text/plain": [
              "0.07265566289424896"
            ]
          },
          "metadata": {},
          "execution_count": 14
        }
      ],
      "source": [
        "loss"
      ]
    },
    {
      "cell_type": "code",
      "execution_count": 15,
      "metadata": {
        "colab": {
          "base_uri": "https://localhost:8080/"
        },
        "id": "NH9ySQL5DEi1",
        "outputId": "7f3dd0d1-e3d0-4989-fe9e-98c2c91200f0"
      },
      "outputs": [
        {
          "output_type": "execute_result",
          "data": {
            "text/plain": [
              "(23163.0,\n",
              " 329.0,\n",
              " 0.0,\n",
              " 0.0,\n",
              " 0.9859952330589294,\n",
              " 0.9859952330589294,\n",
              " 1.0,\n",
              " 0.6094151139259338,\n",
              " 0.9904379844665527)"
            ]
          },
          "metadata": {},
          "execution_count": 15
        }
      ],
      "source": [
        "tp,fp,tn,fn,accuracy,precision,recall,auc,prc"
      ]
    },
    {
      "cell_type": "code",
      "execution_count": 16,
      "metadata": {
        "colab": {
          "base_uri": "https://localhost:8080/"
        },
        "id": "JgZc_zGHDJir",
        "outputId": "d79a7676-1579-4ce7-b32a-344a495778cc"
      },
      "outputs": [
        {
          "output_type": "execute_result",
          "data": {
            "text/plain": [
              "0.9859952330589294"
            ]
          },
          "metadata": {},
          "execution_count": 16
        }
      ],
      "source": [
        "precision"
      ]
    },
    {
      "cell_type": "code",
      "execution_count": 17,
      "metadata": {
        "colab": {
          "base_uri": "https://localhost:8080/"
        },
        "id": "jHmLnUHpDMpL",
        "outputId": "dec13551-b17e-4bbe-b172-1a0f55980bcf"
      },
      "outputs": [
        {
          "output_type": "execute_result",
          "data": {
            "text/plain": [
              "1.0"
            ]
          },
          "metadata": {},
          "execution_count": 17
        }
      ],
      "source": [
        "recall "
      ]
    },
    {
      "cell_type": "code",
      "source": [
        "f1score=(2*precision*recall)/(precision+recall)\n",
        "f1score"
      ],
      "metadata": {
        "colab": {
          "base_uri": "https://localhost:8080/"
        },
        "id": "yr1fi4ufJkvD",
        "outputId": "3824aa39-b357-4890-d5c6-7fbcb266ccbb"
      },
      "execution_count": 18,
      "outputs": [
        {
          "output_type": "execute_result",
          "data": {
            "text/plain": [
              "0.9929482373834807"
            ]
          },
          "metadata": {},
          "execution_count": 18
        }
      ]
    },
    {
      "cell_type": "code",
      "execution_count": null,
      "metadata": {
        "colab": {
          "background_save": true
        },
        "id": "CO9uS82uMjYN",
        "outputId": "46909612-6ecc-4d72-b3c8-a6eb5a5d07a1"
      },
      "outputs": [
        {
          "ename": "KeyError",
          "evalue": "ignored",
          "output_type": "error",
          "traceback": [
            "\u001b[0;31m---------------------------------------------------------------------------\u001b[0m",
            "\u001b[0;31mKeyError\u001b[0m                                  Traceback (most recent call last)",
            "\u001b[0;32m<ipython-input-25-10b5a2b6737f>\u001b[0m in \u001b[0;36m<module>\u001b[0;34m()\u001b[0m\n\u001b[1;32m      1\u001b[0m \u001b[0mplt\u001b[0m\u001b[0;34m.\u001b[0m\u001b[0mfigure\u001b[0m\u001b[0;34m(\u001b[0m\u001b[0mfigsize\u001b[0m\u001b[0;34m=\u001b[0m\u001b[0;34m(\u001b[0m\u001b[0;36m8\u001b[0m\u001b[0;34m,\u001b[0m\u001b[0;36m4\u001b[0m\u001b[0;34m)\u001b[0m\u001b[0;34m)\u001b[0m\u001b[0;34m\u001b[0m\u001b[0;34m\u001b[0m\u001b[0m\n\u001b[0;32m----> 2\u001b[0;31m \u001b[0mplt\u001b[0m\u001b[0;34m.\u001b[0m\u001b[0mplot\u001b[0m\u001b[0;34m(\u001b[0m\u001b[0mhistory\u001b[0m\u001b[0;34m.\u001b[0m\u001b[0mhistory\u001b[0m\u001b[0;34m[\u001b[0m\u001b[0;34m'acc'\u001b[0m\u001b[0;34m]\u001b[0m\u001b[0;34m,\u001b[0m \u001b[0mlabel\u001b[0m\u001b[0;34m=\u001b[0m\u001b[0;34m'Train Loss'\u001b[0m\u001b[0;34m)\u001b[0m\u001b[0;34m\u001b[0m\u001b[0;34m\u001b[0m\u001b[0m\n\u001b[0m\u001b[1;32m      3\u001b[0m \u001b[0mplt\u001b[0m\u001b[0;34m.\u001b[0m\u001b[0mplot\u001b[0m\u001b[0;34m(\u001b[0m\u001b[0mhistory\u001b[0m\u001b[0;34m.\u001b[0m\u001b[0mhistory\u001b[0m\u001b[0;34m[\u001b[0m\u001b[0;34m'val_acc'\u001b[0m\u001b[0;34m]\u001b[0m\u001b[0;34m,\u001b[0m \u001b[0mlabel\u001b[0m\u001b[0;34m=\u001b[0m\u001b[0;34m'Test Loss'\u001b[0m\u001b[0;34m)\u001b[0m\u001b[0;34m\u001b[0m\u001b[0;34m\u001b[0m\u001b[0m\n\u001b[1;32m      4\u001b[0m \u001b[0mplt\u001b[0m\u001b[0;34m.\u001b[0m\u001b[0mtitle\u001b[0m\u001b[0;34m(\u001b[0m\u001b[0;34m'model loss'\u001b[0m\u001b[0;34m)\u001b[0m\u001b[0;34m\u001b[0m\u001b[0;34m\u001b[0m\u001b[0m\n\u001b[1;32m      5\u001b[0m \u001b[0mplt\u001b[0m\u001b[0;34m.\u001b[0m\u001b[0mylabel\u001b[0m\u001b[0;34m(\u001b[0m\u001b[0;34m'loss'\u001b[0m\u001b[0;34m)\u001b[0m\u001b[0;34m\u001b[0m\u001b[0;34m\u001b[0m\u001b[0m\n",
            "\u001b[0;31mKeyError\u001b[0m: 'acc'"
          ]
        },
        {
          "data": {
            "text/plain": [
              "<Figure size 576x288 with 0 Axes>"
            ]
          },
          "metadata": {},
          "output_type": "display_data"
        }
      ],
      "source": [
        "plt.figure(figsize=(8,4))\n",
        "plt.plot(history.history['acc'], label='Train Loss')\n",
        "plt.plot(history.history['val_acc'], label='Test Loss')\n",
        "plt.title('model loss')\n",
        "plt.ylabel('loss')\n",
        "plt.xlabel('epochs')\n",
        "plt.legend(loc='upper right')\n",
        "plt.show();"
      ]
    },
    {
      "cell_type": "code",
      "execution_count": null,
      "metadata": {
        "colab": {
          "background_save": true
        },
        "id": "C6yQurmZTs9k"
      },
      "outputs": [],
      "source": [
        "y_test"
      ]
    },
    {
      "cell_type": "code",
      "execution_count": null,
      "metadata": {
        "colab": {
          "background_save": true
        },
        "id": "q8tJFqgeMcdV"
      },
      "outputs": [],
      "source": [
        "aa=[x for x in range(23492)]\n",
        "plt.figure(figsize=(8,4))\n",
        "plt.plot(aa, y_test[:23492], marker='.', label=\"actual\")\n",
        "plt.plot(aa, test_predict[:,0][:23492], 'r', label=\"prediction\")\n",
        "plt.tick_params(left=False, labelleft=True) #remove ticks\n",
        "plt.tight_layout()\n",
        "sns.despine(top=True)\n",
        "plt.subplots_adjust(left=0.07)\n",
        "plt.ylabel('', size=15)\n",
        "plt.xlabel('Time step', size=15)\n",
        "plt.legend(fontsize=15)\n",
        "plt.show()"
      ]
    },
    {
      "cell_type": "code",
      "execution_count": 19,
      "metadata": {
        "id": "yhOrblllMoZm"
      },
      "outputs": [],
      "source": [
        "import numpy as np\n",
        "from sklearn.pipeline import make_pipeline\n",
        "from sklearn.preprocessing import StandardScaler"
      ]
    },
    {
      "cell_type": "code",
      "source": [
        "from sklearn.svm import SVC\n",
        "clf = make_pipeline(StandardScaler(), SVC(gamma='auto'))\n",
        "clf.fit(X,y)\n",
        "\n"
      ],
      "metadata": {
        "colab": {
          "base_uri": "https://localhost:8080/"
        },
        "id": "VhipWkJuQcgU",
        "outputId": "2a986941-500d-48de-8f9e-6d2d8b513d2e"
      },
      "execution_count": 22,
      "outputs": [
        {
          "output_type": "execute_result",
          "data": {
            "text/plain": [
              "Pipeline(steps=[('standardscaler', StandardScaler()),\n",
              "                ('svc', SVC(gamma='auto'))])"
            ]
          },
          "metadata": {},
          "execution_count": 22
        }
      ]
    },
    {
      "cell_type": "code",
      "source": [
        "pred=clf.predict(X)"
      ],
      "metadata": {
        "id": "SDaoC_x-RV70"
      },
      "execution_count": 23,
      "outputs": []
    },
    {
      "cell_type": "code",
      "source": [
        "from sklearn.metrics import accuracy_score"
      ],
      "metadata": {
        "id": "nprCBko5Rz_Z"
      },
      "execution_count": 25,
      "outputs": []
    },
    {
      "cell_type": "code",
      "source": [
        "score=accuracy_score(y,pred)"
      ],
      "metadata": {
        "id": "6RIW3BxERmwv"
      },
      "execution_count": 28,
      "outputs": []
    },
    {
      "cell_type": "code",
      "source": [
        "score"
      ],
      "metadata": {
        "colab": {
          "base_uri": "https://localhost:8080/"
        },
        "id": "oPmC_tkLRzFj",
        "outputId": "321124dd-3ca4-439b-db05-75a313f893f1"
      },
      "execution_count": 29,
      "outputs": [
        {
          "output_type": "execute_result",
          "data": {
            "text/plain": [
              "0.9868037375220825"
            ]
          },
          "metadata": {},
          "execution_count": 29
        }
      ]
    },
    {
      "cell_type": "code",
      "source": [
        ""
      ],
      "metadata": {
        "id": "8jPS5fT7SC6W"
      },
      "execution_count": null,
      "outputs": []
    }
  ],
  "metadata": {
    "colab": {
      "collapsed_sections": [],
      "name": "TrainByUsingAdwin.ipynb",
      "provenance": [],
      "include_colab_link": true
    },
    "kernelspec": {
      "display_name": "Python 3",
      "name": "python3"
    },
    "language_info": {
      "name": "python"
    }
  },
  "nbformat": 4,
  "nbformat_minor": 0
}